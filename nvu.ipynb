{
 "cells": [
  {
   "cell_type": "markdown",
   "metadata": {},
   "source": [
    "# ODE Model of neurovascular coupling\n",
    "\n",
    "The neurovascular unit (NVU) is modelled following [1] and a separate paper to the software is published in https://github.com/ReScience-Archives/Diem-2017 [2].\n",
    "\n",
    "The model is used to calculate the dilatation of an arteriole due to functional hyperaemia, i.e. the communication of neuronal nutrient demand via astrocytes. This was used to develop the neurovascular coupling hypothesis for the driving force behind IPAD [3]. "
   ]
  },
  {
   "cell_type": "code",
   "execution_count": 10,
   "metadata": {
    "collapsed": true
   },
   "outputs": [],
   "source": [
    "from nvu import nvu, utils\n",
    "import numpy as np\n",
    "import matplotlib.pylab as plt \n",
    "\n",
    "%matplotlib inline\n",
    "\n",
    "plt.rcParams['axes.labelsize'] = 9\n",
    "plt.rcParams['xtick.labelsize'] = 9\n",
    "plt.rcParams['ytick.labelsize'] = 9\n",
    "plt.rcParams['legend.fontsize'] = 9\n",
    "plt.rcParams['font.family'] = 'sans-serif'\n",
    "plt.rcParams['font.serif'] = ['Arial']\n",
    "\n",
    "WIDTH = 510\n",
    "FACTOR = 1.0  # the fraction of the width you'd like the figure to occupy\n",
    "fig_width_pt  = WIDTH * FACTOR\n",
    "inches_per_pt = 1.0 / 72.27\n",
    "golden_ratio  = (np.sqrt(5) - 1.0) / 2.0  # because it looks good\n",
    "fig_width_in  = fig_width_pt * inches_per_pt  # figure width in inches\n",
    "fig_height_in = fig_width_in * golden_ratio   # figure height in inches\n",
    "fig_dims    = [fig_width_in, fig_height_in] # fig dims as a list\n",
    "fig_dims_half = [fig_width_in, fig_height_in/2]"
   ]
  },
  {
   "cell_type": "markdown",
   "metadata": {
    "collapsed": true
   },
   "source": [
    "The model uses over 100 parameters, so we load them from file"
   ]
  },
  {
   "cell_type": "code",
   "execution_count": 2,
   "metadata": {
    "collapsed": true
   },
   "outputs": [],
   "source": [
    "units, param = utils.read_config(\"./nvu/parameter.cfg\")"
   ]
  },
  {
   "cell_type": "markdown",
   "metadata": {},
   "source": [
    "For the simulation we require the initial conditions for the 17 variables and an array to store the solution"
   ]
  },
  {
   "cell_type": "code",
   "execution_count": 3,
   "metadata": {
    "collapsed": true
   },
   "outputs": [],
   "source": [
    "def init(r0):\n",
    "    potassium_s = 2.92655044308714e-8\n",
    "    ip3 = 5.37611796987610e-10\n",
    "    calcium_a = 1.47220569018281e-07\n",
    "    h = 0.404507631346124\n",
    "    ss = 0.0161921297424289\n",
    "    eet = 4.78801348065449e-07\n",
    "    nbk = 6.24930194169376e-5\n",
    "    Vk = -0.0814061063457068\n",
    "    potassium_p = 0.00353809145071707\n",
    "    calcium_p = 4.60269585230500e-06\n",
    "    k = 8.01125818473096e-09\n",
    "    Vm = 8.33004194103223e-05\n",
    "    n = 0.283859572906570\n",
    "    x = 2*np.pi*r0\n",
    "    calcium_smc = 3.41385670857693e-07\n",
    "    omega = 0.536911672725179\n",
    "    yy = 0.000115089683436595\n",
    "    return [potassium_s, ip3, calcium_a, h, ss, eet, nbk, Vk, potassium_p,\n",
    "            calcium_p, k, Vm, n, x, calcium_smc, omega, yy]\n",
    "\n",
    "um = units['um']\n",
    "r0 = 20*um # initial radius of the arteriole \n",
    "y0 = init(r0) # returns initial conditions for NVU model\n",
    "x_rel = y0[13] # variable x (cross-sectional area) of relaxed arteriole\n",
    "sol = np.zeros(len(y0)) # array to store solution"
   ]
  },
  {
   "cell_type": "markdown",
   "metadata": {},
   "source": [
    "Set tolerance values for the solver. These were found by experimenting"
   ]
  },
  {
   "cell_type": "code",
   "execution_count": 6,
   "metadata": {
    "collapsed": true
   },
   "outputs": [],
   "source": [
    "atol = 1e-8\n",
    "rtol = 1e-7"
   ]
  },
  {
   "cell_type": "markdown",
   "metadata": {},
   "source": [
    "Communication with the authors revealed that an equilibration phase is required for the simulation"
   ]
  },
  {
   "cell_type": "code",
   "execution_count": 7,
   "metadata": {},
   "outputs": [],
   "source": [
    "t1 = -20 # start time\n",
    "t2 = 0 # end time\n",
    "nt = 100 # time steps\n",
    "Jrho_IN = np.zeros((nt,3)) # input array\n",
    "Jrho_IN[:,0] = np.linspace(t1, t2, nt) # input\n",
    "t = np.linspace(t1, t2, nt)\n",
    "sol = nvu.run_simulation(t, y0, Jrho_IN, x_rel, units, param, atol=atol, rtol=rtol)\n",
    "y0 = sol[-1,:] # set the result of the equilibration as the new initial condition"
   ]
  },
  {
   "cell_type": "markdown",
   "metadata": {
    "collapsed": true
   },
   "source": [
    "Now we can run the actual simulation"
   ]
  },
  {
   "cell_type": "code",
   "execution_count": 8,
   "metadata": {
    "collapsed": true
   },
   "outputs": [],
   "source": [
    "def K_glut_release(t1, t2, uM, s, **kwargs):\n",
    "    # this function sets the input conditions - the release of K+ and Glu into the synapse\n",
    "    sizeJrho = 1600\n",
    "    sec = sizeJrho/(t2-t1)\n",
    "    Max_neural_Kplus = 0.55*uM/s # max K+ value\n",
    "    Max_neural_glut = 0.5 # max ratio of open/unopened Glu receptors\n",
    "    # Jrho_IN holds input conditions:\n",
    "    # Jrho_IN[:,0] is time, Jrho_IN[:,1] is K+, Jrho_IN[:,2] is Glu\n",
    "    Jrho_IN = np.zeros((sizeJrho,3))\n",
    "    Jrho_IN[:,0] = np.linspace(t1, t2, sizeJrho)\n",
    "    pulse = 20\n",
    "    it1 = int(0*sec) # phase 1\n",
    "    it2 = int(pulse*sec) # phase 2 \n",
    "    it3 = int((25-pulse)*sec) # phase 3\n",
    "    it4 = int(1*sec) # phase 4\n",
    "    pos = it1\n",
    "    t = np.linspace(0, pulse, it2)\n",
    "    # phase 1: no K+ or Glu\n",
    "    # phase 2: sigmoidal increase of K+ and Glu\n",
    "    Jrho_IN[pos+1:pos+it2+1,1] = Max_neural_Kplus * 0.5*(1 + np.tanh((t-9)/3))\n",
    "    Jrho_IN[pos+1:pos+it2+1,2] = Max_neural_glut * 0.5*(1 + np.tanh((t-9)/3))\n",
    "    pos += it2\n",
    "    # phase 3: keep K+ and Glu at max values\n",
    "    Jrho_IN[pos+1:pos+it3+1,1] = Max_neural_Kplus * np.ones(it3)\n",
    "    Jrho_IN[pos+1:pos+it3+1,2] = Max_neural_glut * np.ones(it3)\n",
    "    pos += it3\n",
    "    # phase 4: linear decrease of K+ and Glu to 0\n",
    "    Jrho_IN[pos+1:pos+it4+1,1] = Max_neural_Kplus * np.linspace(1, 0, it4)\n",
    "    Jrho_IN[pos+1:pos+it4+1,2] = Max_neural_glut * np.linspace(1, 0, it4)\n",
    "    return Jrho_IN\n",
    "\n",
    "t1 = 0 # start time\n",
    "t2 = 50 # end time\n",
    "nt = 200 # time steps\n",
    "Jrho_IN = K_glut_release(t1, t2, **units) # input\n",
    "t = np.linspace(t1, t2, nt)    \n",
    "sol = nvu.run_simulation(t, y0, Jrho_IN, x_rel, units, param, atol=atol, rtol=rtol)"
   ]
  },
  {
   "cell_type": "markdown",
   "metadata": {},
   "source": [
    "The NVU package comes with a function to plot the results"
   ]
  },
  {
   "cell_type": "code",
   "execution_count": 12,
   "metadata": {},
   "outputs": [
    {
     "data": {
      "image/png": "[encoded data removed]",
      "text/plain": [
       "<matplotlib.figure.Figure at 0x7fa46122ef60>"
      ]
     },
     "metadata": {},
     "output_type": "display_data"
    }
   ],
   "source": [
    "nvu.plot_solution(t, sol, fig_dims, **units)"
   ]
  },
  {
   "cell_type": "markdown",
   "metadata": {},
   "source": [
    "## References\n",
    "\n",
    "[1] Witthoft A, Karniadakis GE (2012) A bidirectional model for communication in the neurovascular unit. Journal of Theoretical Biology 311: 80-93. http://dx.doi.org/10.1016/j.jtbi.2012.07.014\n",
    "\n",
    "[2] Diem AK (2017) [Re] A bidirectional model for communication in the neurovascular unit. ReScience 3: 11. https://github.com/ReScience-Archives/Diem-2017/blob/master/article/Diem-2017.pdf\n",
    "\n",
    "[3] Diem AK, Carare RO, Weller RO, Bressloff NW (2017) A control mechanism for intramural periarterial drainage via astrocytes: How neuronal activity could improve waste clearance from the brain. arXiv preprint: https://arxiv.org/abs/1710.01117"
   ]
  }
 ],
 "metadata": {
  "kernelspec": {
   "display_name": "Python [conda root]",
   "language": "python",
   "name": "conda-root-py"
  },
  "language_info": {
   "codemirror_mode": {
    "name": "ipython",
    "version": 3
   },
   "file_extension": ".py",
   "mimetype": "text/x-python",
   "name": "python",
   "nbconvert_exporter": "python",
   "pygments_lexer": "ipython3",
   "version": "3.5.3"
  }
 },
 "nbformat": 4,
 "nbformat_minor": 2
}
