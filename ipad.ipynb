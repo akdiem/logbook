{
 "cells": [
  {
   "cell_type": "markdown",
   "metadata": {},
   "source": [
    "# Calculation of intra-mural peri-arterial drainage (IPAD) flow rate and volumetric flow rate\n",
    "\n",
    "The model equation for flow through the BM is\n",
    "\n",
    "$$\n",
    "\\frac{\\partial}{\\partial t} \\left( R_i(z,t) \\cdot h_{bm}(z,t) \\right) = - \\frac{\\partial}{\\partial z} \\left( R_i(z,t) \\cdot h_{bm}(z,t) \\cdot q \\right)\n",
    "$$\n",
    "\n",
    "with\n",
    "\n",
    "$$\n",
    "q = - K(p_z) p_z\n",
    "$$\n",
    "\n",
    "where $R_i(z,t)$ is the position of the BM, $h_{bm}(z,t)$ is the width of the BM, $K(p_z)$ is the pressure gradient dependent permeability of the BM and $p_z$ is the pressure gradient of the interstitial fluid (ISF) that runs through the BM [1,2].\n",
    "\n",
    "Start by importing some useful libraries."
   ]
  },
  {
   "cell_type": "code",
   "execution_count": 1,
   "metadata": {
    "collapsed": true
   },
   "outputs": [],
   "source": [
    "import numpy as np\n",
    "import matplotlib.pylab as plt\n",
    "from scipy.interpolate import interp2d"
   ]
  },
  {
   "cell_type": "markdown",
   "metadata": {},
   "source": [
    "To calculate IPAD velocity we need to define a few parameters in relation to the geometry of the simulated arteriole. We will also define units and characteristic parameters such that the calculations are performed dimensionless."
   ]
  },
  {
   "cell_type": "code",
   "execution_count": 2,
   "metadata": {
    "collapsed": true
   },
   "outputs": [],
   "source": [
    "# Units\n",
    "cm = 1e-2\n",
    "um = 1e-4 * cm\n",
    "dyn = 1\n",
    "pa = 10 * dyn/cm**2\n",
    "s = 1\n",
    "\n",
    "# Scaled variables\n",
    "r0 = 20*um # arteriole radius at rest\n",
    "R = r0/r0 # dimensionless radius\n",
    "w_ast = 10*um/r0 # width of an astrocyte end-foot\n",
    "gap = 1*um/r0 # gap between astrocyte end-feet\n",
    "#Le = 10*R\n",
    "Le = 10*R + 10*w_ast + 9*gap # length of the arteriole\n",
    "We = 0.2*R # width of the arteriole wall\n",
    "Disp = 4*um/r0 # maximum displacement of the arteriole wall\n",
    "tf = 50*s # simulation time\n",
    "Y = 1.0e6 * pa # Young's modulus of the arteriole wall\n",
    "nu = 0.49 # Poisson's ratio\n",
    "lam = Y*nu/((1+nu)*(1-2*nu)) # first Lame coefficient\n",
    "mu = Y/(2*(1+nu)) # second Lame coefficient\n",
    "Mu = mu/mu # dimensionless Lame coefficient\n",
    "Lam = lam/mu # dimensionless Lame coefficient"
   ]
  },
  {
   "cell_type": "markdown",
   "metadata": {},
   "source": [
    "## Flow rate\n",
    "\n",
    "To calculate the flow rate $q$ we use\n",
    "\n",
    "$$\n",
    "q = - K(p_z) p_z\n",
    "$$\n",
    "\n",
    "which requires the pressure gradient of ISF $p_z = \\partial p/\\partial z$ from data. The data provides the radial stress component $\\sigma_{rr}$, which is directly proportional to ISF pressure inside the BM\n",
    "\n",
    "$$\n",
    "p_z = -\\sigma_{rr}\n",
    "$$"
   ]
  },
  {
   "cell_type": "code",
   "execution_count": null,
   "metadata": {
    "collapsed": true
   },
   "outputs": [],
   "source": []
  },
  {
   "cell_type": "markdown",
   "metadata": {
    "collapsed": true
   },
   "source": [
    "## References\n",
    "\n",
    "[1] Diem AK, MacGregor Sharp M, Gatherer M, Bressloff NW, Carare RO and Richardson G (2017) Arterial Pulsations cannot Drive Intramural Periarterial Drainage: Significance for Aβ Drainage. Frontiers in Neuroscience 11:475. doi: https://doi.org/10.3389/fnins.2017.00475\n",
    "\n",
    "[2] Diem AK, Carare RO, Weller RO, Bressloff NW (2017) A control mechanism for intramural periarterial drainage via astrocytes: How neuronal activity could improve waste clearance from the brain. arXiv preprint: https://arxiv.org/abs/1710.01117"
   ]
  },
  {
   "cell_type": "code",
   "execution_count": null,
   "metadata": {
    "collapsed": true
   },
   "outputs": [],
   "source": []
  }
 ],
 "metadata": {
  "kernelspec": {
   "display_name": "Python [conda root]",
   "language": "python",
   "name": "conda-root-py"
  },
  "language_info": {
   "codemirror_mode": {
    "name": "ipython",
    "version": 3
   },
   "file_extension": ".py",
   "mimetype": "text/x-python",
   "name": "python",
   "nbconvert_exporter": "python",
   "pygments_lexer": "ipython3",
   "version": "3.5.3"
  }
 },
 "nbformat": 4,
 "nbformat_minor": 2
}
