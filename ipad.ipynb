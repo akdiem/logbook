{
 "cells": [
  {
   "cell_type": "markdown",
   "metadata": {},
   "source": [
    "# Calculation of intra-mural peri-arterial drainage (IPAD) flow rate and volumetric flow rate\n",
    "\n",
    "The model equation for flow through the BM is\n",
    "\n",
    "$$\n",
    "\\frac{\\partial}{\\partial t} \\left( R_i(z,t) \\cdot h_{bm}(z,t) \\right) = - \\frac{\\partial}{\\partial z} \\left( R_i(z,t) \\cdot h_{bm}(z,t) \\cdot q \\right)\n",
    "$$\n",
    "\n",
    "with\n",
    "\n",
    "$$\n",
    "q = - K(p_z) p_z\n",
    "$$\n",
    "\n",
    "where $R_i(z,t)$ is the position of the BM, $h_{bm}(z,t)$ is the width of the BM, $K(p_z)$ is the pressure gradient dependent permeability of the BM and $p_z$ is the pressure gradient of the interstitial fluid (ISF) that runs through the BM [1,2].\n",
    "\n",
    "Start by importing some useful libraries."
   ]
  },
  {
   "cell_type": "code",
   "execution_count": 19,
   "metadata": {
    "collapsed": true,
    "scrolled": true
   },
   "outputs": [],
   "source": [
    "import numpy as np\n",
    "import matplotlib.pylab as plt\n",
    "from scipy.interpolate import interp2d\n",
    "\n",
    "%matplotlib inline\n",
    "\n",
    "plt.rcParams['axes.labelsize'] = 9\n",
    "plt.rcParams['xtick.labelsize'] = 9\n",
    "plt.rcParams['ytick.labelsize'] = 9\n",
    "plt.rcParams['legend.fontsize'] = 9\n",
    "plt.rcParams['font.family'] = 'sans-serif'\n",
    "plt.rcParams['font.serif'] = ['Arial']\n",
    "\n",
    "WIDTH = 510\n",
    "FACTOR = 1.0  # the fraction of the width you'd like the figure to occupy\n",
    "fig_width_pt  = WIDTH * FACTOR\n",
    "inches_per_pt = 1.0 / 72.27\n",
    "golden_ratio  = (np.sqrt(5) - 1.0) / 2.0  # because it looks good\n",
    "fig_width_in  = fig_width_pt * inches_per_pt  # figure width in inches\n",
    "fig_height_in = fig_width_in * golden_ratio   # figure height in inches\n",
    "fig_dims    = [fig_width_in, fig_height_in] # fig dims as a list\n",
    "fig_dims_half = [fig_width_in, fig_height_in/2]"
   ]
  },
  {
   "cell_type": "markdown",
   "metadata": {},
   "source": [
    "To calculate IPAD velocity we need to define a few parameters in relation to the geometry of the simulated arteriole. We will also define units and characteristic parameters such that the calculations are performed dimensionless."
   ]
  },
  {
   "cell_type": "code",
   "execution_count": 30,
   "metadata": {
    "collapsed": true,
    "scrolled": true
   },
   "outputs": [],
   "source": [
    "# Units\n",
    "cm = 1e-2\n",
    "um = 1e-4 * cm\n",
    "dyn = 1\n",
    "pa = 10 * dyn/cm**2\n",
    "s = 1\n",
    "\n",
    "# Parameters\n",
    "K = 1e-12 * cm**2 # permeability of the BM\n",
    "M = 1.5e-3 * pa*s # viscosity of ISF\n",
    "r0 = 20*um # arteriole radius\n",
    "R = r0/r0 # dimensionless radius\n",
    "w_ast = 10*um/r0 # width of astrocyte end-foot\n",
    "gap = 1*um/r0 # gap between astrocyte end-feet\n",
    "Le = 10*R + 5*w_ast + 4*gap # arteriole length\n",
    "We = 0.2*R # arteriole wall thickness\n",
    "Y = 1.0e6 * pa # Young's modulus\n",
    "nu = 0.49 # Poisson's ratio\n",
    "mu = Y/(2*(1+nu)) # Second Lame coefficient\n",
    "Mu = mu/mu # Dimensionless Lame coefficient"
   ]
  },
  {
   "cell_type": "markdown",
   "metadata": {},
   "source": [
    "## Flow rate\n",
    "\n",
    "To calculate the flow rate $q$ we use\n",
    "\n",
    "$$\n",
    "q = - K(p_z) p_z\n",
    "$$\n",
    "\n",
    "which requires the pressure gradient of ISF $p_z = \\partial p/\\partial z$ from data. The data provides the radial stress component $\\sigma_{rr}$, which is directly proportional to ISF pressure inside the BM\n",
    "\n",
    "$$\n",
    "p_z = -\\sigma_{rr}\n",
    "$$\n",
    "\n",
    "All the following steps need to be carried out for each time step. Load the wall stress data into a Numpy array"
   ]
  },
  {
   "cell_type": "code",
   "execution_count": 21,
   "metadata": {
    "scrolled": true
   },
   "outputs": [],
   "source": [
    "Nx = 50 # number of points in radial direction\n",
    "Ny = 500 # number of points in longitudinal direction\n",
    "t = 0\n",
    "\n",
    "srr = np.loadtxt(\"./ipad/rx5_5/stress.%s.csv\" % (t), delimiter=',', \n",
    "                 skiprows=1)[:,0].reshape((Nx, Ny)).T # load wall stress data"
   ]
  },
  {
   "cell_type": "markdown",
   "metadata": {},
   "source": [
    "Calculate ISF pressure inside the BM"
   ]
  },
  {
   "cell_type": "code",
   "execution_count": 22,
   "metadata": {
    "collapsed": true,
    "scrolled": true
   },
   "outputs": [],
   "source": [
    "Pbm = -srr"
   ]
  },
  {
   "cell_type": "markdown",
   "metadata": {},
   "source": [
    "Define valve function of BM using $K_0$ and $K_1$"
   ]
  },
  {
   "cell_type": "code",
   "execution_count": 23,
   "metadata": {
    "scrolled": true
   },
   "outputs": [],
   "source": [
    "K0 = 0.1 * K/M\n",
    "K1 = 1.0 * K/M"
   ]
  },
  {
   "cell_type": "markdown",
   "metadata": {},
   "source": [
    "The wall stress data is already dimensionless, hence all other parameters and variables need to be nondimensionalised"
   ]
  },
  {
   "cell_type": "code",
   "execution_count": 24,
   "metadata": {
    "collapsed": true,
    "scrolled": true
   },
   "outputs": [],
   "source": [
    "K0 = K0 / r0**2 * mu\n",
    "K1 = K1 / r0**2 * mu"
   ]
  },
  {
   "cell_type": "markdown",
   "metadata": {},
   "source": [
    "Now calculate BM flow rate"
   ]
  },
  {
   "cell_type": "code",
   "execution_count": 25,
   "metadata": {
    "scrolled": true
   },
   "outputs": [],
   "source": [
    "def bm_flow(P, K0, K1, dx):\n",
    "    U = np.copy(P)\n",
    "    n = P.shape[0]\n",
    "    for i in range(n):\n",
    "        dp = np.gradient(P[i,:], dx)\n",
    "        k = np.copy(dp)\n",
    "        k[dp>=0] = K1 # apply pressure gradient dependent valve\n",
    "        k[dp<0] = K0 # apply pressure gradient dependent valve\n",
    "        U[i,:] = -k*dp\n",
    "    return U\n",
    "\n",
    "dx = Le/Pbm.shape[0]\n",
    "Ubm = bm_flow(Pbm, K0, K1, dx) \n",
    "ipad = np.mean(Ubm, axis=1)"
   ]
  },
  {
   "cell_type": "markdown",
   "metadata": {},
   "source": [
    "Plot the data for the current time step"
   ]
  },
  {
   "cell_type": "code",
   "execution_count": 27,
   "metadata": {
    "scrolled": true
   },
   "outputs": [
    {
     "data": {
      "image/png": "[encoded data removed]",
      "text/plain": [
       "<matplotlib.figure.Figure at 0x7feaa0379b70>"
      ]
     },
     "metadata": {},
     "output_type": "display_data"
    }
   ],
   "source": [
    "x = np.linspace(0, Le, Ny)\n",
    "plt.figure(figsize=fig_dims_half)\n",
    "plt.plot(x*r0/um, ipad*r0/(um/s), lw=3)\n",
    "plt.xlabel(\"length (um)\")\n",
    "plt.ylabel(\"flow rate (um/s)\")\n",
    "plt.show()"
   ]
  },
  {
   "cell_type": "markdown",
   "metadata": {},
   "source": [
    "## Volumetric flow rate\n",
    "\n",
    "So far we have only used Darcy's law to calculate the 1D flow rate. But we are also interested in volumetric flow rate in order to determine how much ISF can be processed through the BM. To do that we will solve the model equation\n",
    "\n",
    "$$\n",
    "\\frac{\\partial}{\\partial t} \\left( R_i(z,t) \\cdot h_{bm}(z,t) \\right) = - \\frac{\\partial}{\\partial z} \\left( R_i(z,t) \\cdot h_{bm}(z,t) \\cdot q \\right)\n",
    "$$\n",
    "\n",
    "using the Lax-Wendroff method for finite differences. This is the same method that is implemented in VaMpy. We require the flow rate for each time step (the code above shows the steps for one time step), which is loaded from a file"
   ]
  },
  {
   "cell_type": "code",
   "execution_count": 29,
   "metadata": {},
   "outputs": [],
   "source": [
    "ipad = np.loadtxt(\"./ipad/ipad.csv\", delimiter=',')/r0"
   ]
  },
  {
   "cell_type": "markdown",
   "metadata": {},
   "source": [
    "We also require the displacement along the artery at the location of the BM, which was extracted from Paraview. From all data we discard the first and last 30 data points because the fixation of the displacement at the ends creates unnaturally large stresses, which we want to ignore in order to not overestimate IPAD "
   ]
  },
  {
   "cell_type": "code",
   "execution_count": 39,
   "metadata": {},
   "outputs": [],
   "source": [
    "Nt, Nx = ipad.shape\n",
    "Ri = np.zeros((Nt, Nx))\n",
    "for i in range(0, Nt):\n",
    "    Ri[i,:] = np.loadtxt(\"./ipad/rx5_5/disp_line.%d.csv\" % (i), delimiter=',',\n",
    "                         skiprows=2)[30:-30,0]\n",
    "Ri = Ri/r0 + 0.5*We # Ri is location (half way through the wall) plus displacement"
   ]
  },
  {
   "cell_type": "markdown",
   "metadata": {},
   "source": [
    "We use the Lax Wendroff method to calculate $U = R_i \\cdot h_{bm}$. Setting up initial conditions and parameters"
   ]
  },
  {
   "cell_type": "code",
   "execution_count": 40,
   "metadata": {
    "collapsed": true
   },
   "outputs": [],
   "source": [
    "def initial_conditions(Ri):\n",
    "    U = Ri * (0.1*um) # assume BM at rest is 100 nm thick\n",
    "    return U\n",
    "\n",
    "U = initial_conditions(Ri)\n",
    "u0 = U[0,:]\n",
    "x = np.linspace(0, Le, 500)[30:-30]\n",
    "y = np.linspace(0, tf, Nt)\n",
    "dt = x[1] - x[0]\n",
    "dx = y[1] - y[0]"
   ]
  },
  {
   "cell_type": "markdown",
   "metadata": {},
   "source": [
    "Solve the conservation problem \n",
    "\n",
    "$$\n",
    "\\frac{\\partial U}{\\partial t} + \\frac{\\partial F}{\\partial z} = S\n",
    "$$\n",
    "\n",
    "with $F = U \\cdot q$, $S = 0$."
   ]
  },
  {
   "cell_type": "code",
   "execution_count": 41,
   "metadata": {
    "collapsed": true
   },
   "outputs": [],
   "source": [
    "def F(U, ubm):\n",
    "    return U*ubm\n",
    "    \n",
    "def S(U):\n",
    "    return 0\n",
    "\n",
    "def lax_wendroff(U_prev, F_prev, S_prev, u_bm, dt, dx):\n",
    "    # u_prev = [U[m-1], U[m], U[m+1]], a_prev, p_prev analogously\n",
    "    U_np_mp = (U_prev[2]+U_prev[1])/2 + dt/2 * (-(F_prev[2]-F_prev[1])/dx +\\\n",
    "                (S_prev[2]+S_prev[1])/2)\n",
    "    U_np_mm = (U_prev[1]+U_prev[0])/2 + dt/2 * (-(F_prev[1]-F_prev[0])/dx +\\\n",
    "                (S_prev[1]+S_prev[0])/2)\n",
    "    F_np_mp = F(U_np_mp, u_bm)\n",
    "    F_np_mm = F(U_np_mm, u_bm)\n",
    "    S_np_mp = S(U_np_mp)\n",
    "    S_np_mm = S(U_np_mm)\n",
    "    \n",
    "    U_np = U_prev[1] - dt/dx * (F_np_mp-F_np_mm) + dt/2 * (S_np_mp+S_np_mm)\n",
    "    return U_np\n",
    "\n",
    "def numerical(U, ubm, time, dt, dx, x, L):\n",
    "    for i in range(1,len(time)):\n",
    "        v = (max(U[i-1,:])) # test cfl condition\n",
    "        U[i,0] = U[0,0] # inlet boundary condition\n",
    "        for j in range(1,len(x)-1):\n",
    "            u_prev = U[i-1,j-1:j+2]\n",
    "            f_prev = u_prev * ubm[i-1,j-1:j+2]\n",
    "            s_prev = np.array([0,0,0])\n",
    "            if len(u_prev) == 2: # at the end of the array\n",
    "                u_prev = U[i-1,j-1:]\n",
    "                f_prev = u_prev * ubm[i-1,j-1:]\n",
    "                s_prev = np.array([0,0,0])\n",
    "            U[i,j] = lax_wendroff(u_prev, f_prev, s_prev, ubm[i,j], dt, dx)                                                                    \n",
    "        U[i,-1] = U[0,-1] # outlet boundary condition\n",
    "    return U\n",
    "\n",
    "U = numerical(U, ipad, y, dt, dx, x, Le)"
   ]
  },
  {
   "cell_type": "markdown",
   "metadata": {},
   "source": [
    "Finally, we calculate the volumetric flow rate across the whole of the BM surrounding the arteriole"
   ]
  },
  {
   "cell_type": "code",
   "execution_count": 42,
   "metadata": {
    "collapsed": true
   },
   "outputs": [],
   "source": [
    "q = np.zeros((Nt, Nx))\n",
    "for i in range(U.shape[0]):\n",
    "    q[i,:] = 2 * np.pi * ipad[i,:] * U[i,:]"
   ]
  },
  {
   "cell_type": "markdown",
   "metadata": {},
   "source": [
    "Plotting the result for time points 10, 50, 100, 200"
   ]
  },
  {
   "cell_type": "code",
   "execution_count": 44,
   "metadata": {},
   "outputs": [
    {
     "data": {
      "image/png": "[encoded data removed]",
      "text/plain": [
       "<matplotlib.figure.Figure at 0x7feaa03e39e8>"
      ]
     },
     "metadata": {},
     "output_type": "display_data"
    }
   ],
   "source": [
    "plt.figure(figsize=fig_dims_half)\n",
    "plt.plot(x*r0/um, q[10,:]*r0**3/(um**3/s), lw=3)\n",
    "plt.plot(x*r0/um, q[50,:]*r0**3/(um**3/s), lw=3)\n",
    "plt.plot(x*r0/um, q[100,:]*r0**3/(um**3/s), lw=3)\n",
    "plt.plot(x*r0/um, q[150,:]*r0**3/(um**3/s), lw=3)\n",
    "plt.xlabel(\"length (um)\")\n",
    "plt.ylabel(\"flow rate (um/s)\")\n",
    "plt.show()"
   ]
  },
  {
   "cell_type": "markdown",
   "metadata": {
    "collapsed": true
   },
   "source": [
    "## References\n",
    "\n",
    "[1] Diem AK, MacGregor Sharp M, Gatherer M, Bressloff NW, Carare RO and Richardson G (2017) Arterial Pulsations cannot Drive Intramural Periarterial Drainage: Significance for Aβ Drainage. Frontiers in Neuroscience 11:475. doi: https://doi.org/10.3389/fnins.2017.00475\n",
    "\n",
    "[2] Diem AK, Carare RO, Weller RO, Bressloff NW (2017) A control mechanism for intramural periarterial drainage via astrocytes: How neuronal activity could improve waste clearance from the brain. arXiv preprint: https://arxiv.org/abs/1710.01117"
   ]
  }
 ],
 "metadata": {
  "kernelspec": {
   "display_name": "Python [conda root]",
   "language": "python",
   "name": "conda-root-py"
  },
  "language_info": {
   "codemirror_mode": {
    "name": "ipython",
    "version": 3
   },
   "file_extension": ".py",
   "mimetype": "text/x-python",
   "name": "python",
   "nbconvert_exporter": "python",
   "pygments_lexer": "ipython3",
   "version": "3.5.3"
  }
 },
 "nbformat": 4,
 "nbformat_minor": 2
}
