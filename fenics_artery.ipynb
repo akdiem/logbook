{
 "cells": [
  {
   "cell_type": "markdown",
   "metadata": {},
   "source": [
    "# Simulation of artery wall dynamics using FEniCS\n",
    "\n",
    "[FEniCS](https://fenicsproject.org/) is a finite element (FE) solver in Python and is used here to simulate artery wall dynamics under functional hyperaemia. This simulation was used to calculate IPAD under functional hyperaemia [1].\n",
    "\n",
    "FEniCS is best installed as a standalone Anaconda environment:"
   ]
  },
  {
   "cell_type": "raw",
   "metadata": {},
   "source": [
    "conda create -n fenicsproject -c conda-forge fenics\n",
    "source activate fenicsproject"
   ]
  },
  {
   "cell_type": "markdown",
   "metadata": {},
   "source": [
    "Installing ```nb_conda``` in both the ```fenicsproject``` and the base environment adds the option to switch the kernel environment to Jupyter Notebook."
   ]
  },
  {
   "cell_type": "raw",
   "metadata": {},
   "source": [
    "conda install nb_conda"
   ]
  },
  {
   "cell_type": "markdown",
   "metadata": {},
   "source": [
    "Now we can begin modelling an arteriole using FEniCS. Begin with all your module imports"
   ]
  },
  {
   "cell_type": "code",
   "execution_count": null,
   "metadata": {},
   "outputs": [],
   "source": [
    "from fenics import *\n",
    "from dolfin import *\n",
    "from mshr import *\n",
    "\n",
    "from matplotlib import pyplot as plt\n",
    "import numpy as np\n",
    "from scipy.interpolate import interp1d"
   ]
  },
  {
   "cell_type": "markdown",
   "metadata": {},
   "source": [
    "Next we define useful parameters for units and scaled parameters"
   ]
  },
  {
   "cell_type": "code",
   "execution_count": null,
   "metadata": {},
   "outputs": [],
   "source": [
    "# Units\n",
    "cm = 1e-2\n",
    "um = 1e-4 * cm\n",
    "dyn = 1\n",
    "pa = 10 * dyn/cm**2\n",
    "s = 1\n",
    "\n",
    "# Scaled variables\n",
    "r0 = 20*um # arteriole radius\n",
    "R = r0/r0 # dimensionless radius\n",
    "We = 0.2*R # arteriole wall width\n",
    "w_ast = 10*um/r0 # width of an astrocyte\n",
    "gap = 1*um/r0 # gap between astrocytes\n",
    "Le = 10*R + 5*w_ast + 4*gap # length of the arteriole\n",
    "tf = 50*s # simulation time"
   ]
  },
  {
   "cell_type": "markdown",
   "metadata": {},
   "source": [
    "This example simulation will have 5 astrocytes placed along the arteriole wall. They're start and end points along the wall are defined next"
   ]
  },
  {
   "cell_type": "code",
   "execution_count": null,
   "metadata": {},
   "outputs": [],
   "source": [
    "asta1 = Le/2 - 5*w_ast\n",
    "asta2 = asta1+w_ast\n",
    "astb1 = asta2+gap\n",
    "astb2 = astb1+w_ast\n",
    "astc1 = astb2+gap\n",
    "astc2 = astc1+w_ast\n",
    "astd1 = astc2+gap\n",
    "astd2 = astd1+w_ast\n",
    "aste1 = astd2+gap\n",
    "aste2 = aste1+w_ast"
   ]
  },
  {
   "cell_type": "markdown",
   "metadata": {},
   "source": [
    "Finally, we need the elasticity parameters for the artery wall"
   ]
  },
  {
   "cell_type": "code",
   "execution_count": null,
   "metadata": {},
   "outputs": [],
   "source": [
    "Y = 1.0e6 * pa # Young's modulus\n",
    "nu = 0.49 # Poisson's ratio\n",
    "lam = Y*nu/((1+nu)*(1-2*nu)) # First Lame coefficient\n",
    "mu = Y/(2*(1+nu)) # Second Lame coefficient\n",
    "Mu = mu/mu # dimensionless Lame coefficient\n",
    "Lam = lam/mu # dimensionless Lame coefficient"
   ]
  },
  {
   "cell_type": "markdown",
   "metadata": {},
   "source": [
    "The displacement for the arteriole wall is obtained from the simulations of the neurovascular unit (NVU) following [2]."
   ]
  },
  {
   "cell_type": "code",
   "execution_count": null,
   "metadata": {
    "collapsed": true
   },
   "outputs": [],
   "source": [
    "disp = np.loadtxt('./nvu/disp.csv', delimiter=',')/r0 # read displacement from data \n",
    "nt = disp.shape[0] # number of time steps\n",
    "dt = tf/nt"
   ]
  },
  {
   "cell_type": "markdown",
   "metadata": {},
   "source": [
    "To set up FEniCS we need to set up the geometry and mesh using meshr"
   ]
  },
  {
   "cell_type": "code",
   "execution_count": null,
   "metadata": {},
   "outputs": [],
   "source": [
    "N = 512\n",
    "deg = 2\n",
    "elem = \"Lagrange\"\n",
    "geom = Rectangle(Point(0, 0), Point(We, Le))\n",
    "mesh = generate_mesh(geom, N)"
   ]
  },
  {
   "cell_type": "markdown",
   "metadata": {},
   "source": [
    "We will need three function spaces for the simulation"
   ]
  },
  {
   "cell_type": "code",
   "execution_count": null,
   "metadata": {
    "collapsed": true
   },
   "outputs": [],
   "source": [
    "V = VectorFunctionSpace(mesh, elem, deg)\n",
    "W = FunctionSpace(mesh, elem, deg)\n",
    "WW = TensorFunctionSpace(mesh, elem, deg)"
   ]
  },
  {
   "cell_type": "markdown",
   "metadata": {},
   "source": [
    "Astrocytes on the arteriole wall are defined as Dirichlet boundary conditions on the top boundary of the arteriole wall with prescribed displacement obtained from ```disp```. The bottom boundary of the arteriole wall is allowed to move freely. The side boundaries of the rectangular arteriole geometry are fixed to zero displacement. "
   ]
  },
  {
   "cell_type": "code",
   "execution_count": null,
   "metadata": {},
   "outputs": [],
   "source": [
    "def astr_a(x, on_boundary):\n",
    "    return near(x[0], We) and (x[1] < asta2 and x[1] > asta1)\n",
    "\n",
    "def astr_b(x, on_boundary):\n",
    "    return near(x[0], We) and (x[1] < astb2 and x[1] > astb1)\n",
    "\n",
    "def astr_c(x, on_boundary):\n",
    "    return near(x[0], We) and (x[1] < astc2 and x[1] > astc1)\n",
    "\n",
    "def astr_d(x, on_boundary):\n",
    "    return near(x[0], We) and (x[1] < astd2 and x[1] > astd1)\n",
    "\n",
    "def astr_e(x, on_boundary):\n",
    "    return near(x[0], We) and (x[1] < aste2 and x[1] > aste1)\n",
    "\n",
    "def fixed_boundary(x, on_boundary):\n",
    "    return near(x[1], 0) or near(x[1], Le)\n",
    "\n",
    "disps = Expression(('d', '0'), d=disp[0], degree=deg)\n",
    "bc0 = DirichletBC(V, Constant((0, 0)), fixed_boundary)\n",
    "bc1 = DirichletBC(V, disps, astr_a, method='pointwise')\n",
    "bc2 = DirichletBC(V, disps, astr_b, method='pointwise')\n",
    "bc3 = DirichletBC(V, disps, astr_c, method='pointwise')\n",
    "bc4 = DirichletBC(V, disps, astr_d, method='pointwise')\n",
    "bc5 = DirichletBC(V, disps, astr_e, method='pointwise')\n",
    "bcs = [bc0, bc1, bc2, bc3, bc4, bc5]"
   ]
  },
  {
   "cell_type": "markdown",
   "metadata": {},
   "source": [
    "Next we define functions for stress and strain in the PDE"
   ]
  },
  {
   "cell_type": "code",
   "execution_count": null,
   "metadata": {
    "collapsed": true
   },
   "outputs": [],
   "source": [
    "def epsilon(u):\n",
    "    return 0.5*(nabla_grad(u) + nabla_grad(u).T)\n",
    "\n",
    "def sigma(u):\n",
    "    return Lam*nabla_div(u)*Identity(d) + 2*Mu*epsilon(u)"
   ]
  },
  {
   "cell_type": "markdown",
   "metadata": {},
   "source": [
    "With all parameters and variables in place, we can set up the variational Problem in FEniCS"
   ]
  },
  {
   "cell_type": "code",
   "execution_count": null,
   "metadata": {
    "collapsed": true
   },
   "outputs": [],
   "source": [
    "u = TrialFunction(V)\n",
    "d = u.geometric_dimension()\n",
    "v = TestFunction(V)\n",
    "f = Constant((0, 0))\n",
    "a = inner(sigma(u), epsilon(v))*dx\n",
    "L = dot(f, v)*dx"
   ]
  },
  {
   "cell_type": "markdown",
   "metadata": {},
   "source": [
    "Solutions should be stored in a VTK stack"
   ]
  },
  {
   "cell_type": "code",
   "execution_count": null,
   "metadata": {
    "collapsed": true
   },
   "outputs": [],
   "source": [
    "ufile = File('./fenics_artery/u.pvd')\n",
    "sfile = File('./fenics_artery/s.pvd')"
   ]
  },
  {
   "cell_type": "markdown",
   "metadata": {},
   "source": [
    "Finally, the simulation itself is run in a loop over time. Each time step the current displacement gets updated on the boundary conditions and the variational problem is solved."
   ]
  },
  {
   "cell_type": "code",
   "execution_count": null,
   "metadata": {
    "collapsed": true
   },
   "outputs": [],
   "source": [
    "u = Function(V)\n",
    "t = 0.0\n",
    "for i in range(nt):\n",
    "    disps.d = disp[i] # update displacement in all astrocyte boundary conditions\n",
    "    solve(a == L, u, bcs)\n",
    "    u.rename('u (um/s)', 'u (um/s)')\n",
    "    \n",
    "    # Obtain principal stress component in radial direction\n",
    "    sigma_w = project(sigma(u)*Identity(d), WW)\n",
    "    sigma_r = project(sigma_w[0, 0], W)\n",
    "    sigma_r.rename('sigma (Pa)', 'sigma (Pa)')\n",
    "    \n",
    "    # Save to file and plot solution\n",
    "    ufile << (u, t)\n",
    "    sfile << (sigma_r, t)\n",
    "    \n",
    "    t += dt"
   ]
  },
  {
   "cell_type": "markdown",
   "metadata": {},
   "source": [
    "Because FEniCS does not reliably execute in Jupyter Notebooks this file serves more as an explanation of the accompanying code file. The data has been generated using this file.\n",
    "\n",
    "The following steps to retrieve pressure within the basement membrane were carried out using Paraview. Load the s.pvd file into Paraview and create a line along the length of the artery. Export the stress values along this line. This data is saved in stress.csv."
   ]
  },
  {
   "cell_type": "markdown",
   "metadata": {},
   "source": [
    "## References\n",
    "\n",
    "[1] Diem AK, MacGregor Sharp M, Gatherer M, Bressloff NW, Carare RO and Richardson G (2017) Arterial Pulsations cannot Drive Intramural Periarterial Drainage: Significance for Aβ Drainage. Frontiers in Neuroscience 11:475. doi: https://doi.org/10.3389/fnins.2017.00475\n",
    "\n",
    "[2] Diem AK (2017) [Re] A bidirectional model for communication in the neurovascular unit. ReScience 3(1): 9. url: https://github.com/ReScience-Archives/Diem-2017/blob/master/article/Diem-2017.pdf"
   ]
  }
 ],
 "metadata": {
  "kernelspec": {
   "display_name": "Python [conda env:fenicsproject]",
   "language": "python",
   "name": "conda-env-fenicsproject-py"
  },
  "language_info": {
   "codemirror_mode": {
    "name": "ipython",
    "version": 3
   },
   "file_extension": ".py",
   "mimetype": "text/x-python",
   "name": "python",
   "nbconvert_exporter": "python",
   "pygments_lexer": "ipython3",
   "version": "3.6.2"
  }
 },
 "nbformat": 4,
 "nbformat_minor": 2
}
