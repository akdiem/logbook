{
 "cells": [
  {
   "cell_type": "markdown",
   "metadata": {},
   "source": [
    "# Numerical model of a straight arterial section\n",
    "\n",
    "The model equation that describes flow through the basement membrane requires the position $R_i(z,t)$ and pressure $p(z,t)$ as inputs, which shall be obtained from a numerical model of the human middle cerebral artery (MCA). This model was used to demonstrate how arterial pulsations due to the heart beat are not strong enough to drive intramural peri-arterial drainage (IPAD) [1]. To model the MCA we use the Python library [VaMpy](https://github.com/akdiem/vampy) [2], which implements the 1D blood flow equations as derived by Olufsen [3].\n",
    "\n",
    "Start by importing VaMpy (and some other libraries that will be useful)"
   ]
  },
  {
   "cell_type": "code",
   "execution_count": 1,
   "metadata": {
    "collapsed": true
   },
   "outputs": [],
   "source": [
    "from vampy import *\n",
    "import numpy as np\n",
    "from scipy.interpolate import interp1d"
   ]
  },
  {
   "cell_type": "markdown",
   "metadata": {},
   "source": [
    "To set up the artery geometry we need to define a few parameters. We will also define characteristic parameters such that the calculations are performed dimensionless"
   ]
  },
  {
   "cell_type": "code",
   "execution_count": 2,
   "metadata": {
    "collapsed": true
   },
   "outputs": [],
   "source": [
    "# Characteristic parameters\n",
    "R = 1 # cm, radius\n",
    "Q = 10 # cm*3/s, flow rate\n",
    "RHO = 1.06 # g/cm**3, blood density\n",
    "NU = 0.046 # cm**2/s, blood viscosity\n",
    "RE = Q / (NU*R) # Reynolds number\n",
    "KEL = RHO * Q**2 / R**4 # g / (cm * s**2), elasticity parameters\n",
    "RES = Q * RHO / R**4\n",
    "COM = R**7 / (RHO * Q**2)\n",
    "\n",
    "# Parameters\n",
    "Ru = np.array([0.14, 0.13, 0.13])/R # upstream radii per vessel\n",
    "Rd = np.array([0.14, 0.13, 0.13])/R # downstream radii per vessel\n",
    "Lam = np.array([50, 50, 49.5]) # length factor\n",
    "k1 = 2.0e7 / KEL # elasticity parameter\n",
    "k2 = -22.53 * R # elasticity parameter\n",
    "k3 = 8.65e5 / KEL # elasticity parameter\n",
    "K = np.array([k1, k2, k3])\n",
    "p0 = (80 * 1333.22365) / KEL # zero transmural pressure\n",
    "nu = NU*R/Q # dimensionless viscosity\n",
    "depth = 2 # artery network depth\n",
    "N = 50 # number of output timesteps\n",
    "dx = 0.05 / R # spatial step size\n",
    "dt = 5e-6 * Q/R**3 # time step size\n",
    "T = 0.85 * Q/R**3 # length of one cycle\n",
    "tc = 4 # number of cycles"
   ]
  },
  {
   "cell_type": "markdown",
   "metadata": {
    "collapsed": true
   },
   "source": [
    "The simulation is setup as an ArteryNetwork object"
   ]
  },
  {
   "cell_type": "code",
   "execution_count": 3,
   "metadata": {
    "collapsed": true
   },
   "outputs": [],
   "source": [
    "an = ArteryNetwork(Ru, Rd, Lam, K, RHO, nu, p0, depth, N, RE)\n",
    "an.mesh(dx)\n",
    "an.set_time(dt, T, tc)\n",
    "an.initial_conditions(0.0)"
   ]
  },
  {
   "cell_type": "markdown",
   "metadata": {},
   "source": [
    "To solve the equations we need to define inlet and outlet boundary conditions. At the inlet flow rate is prescribed while the outlet is a 3-element Windkessel"
   ]
  },
  {
   "cell_type": "code",
   "execution_count": 4,
   "metadata": {
    "collapsed": true
   },
   "outputs": [],
   "source": [
    "def mca_inlet(Ru, Q, T):\n",
    "    V = np.loadtxt(\"./mca_vampy/mca_inlet.csv\", delimiter=',')\n",
    "    t = [(elem/V[-1,0]) * T for elem in V[:,0]]\n",
    "    # convert velcity data in m/s to flux in cm**3/s\n",
    "    q = [elem*100*Ru**2*np.pi/Q for elem in V[:,1]]\n",
    "    return interp1d(t, q, kind='linear', bounds_error=False, fill_value=q[0])\n",
    "\n",
    "q_in = mca_inlet(Ru[0], Q, T) # flow rate at the inlet\n",
    "out_bc = '3wk' # specify type of outlet bc as 3-element WK\n",
    "out_args = np.array([14130/RES, 7200/RES, 2.4752e-3/COM]) # 3WK resistance and compliance"
   ]
  },
  {
   "cell_type": "markdown",
   "metadata": {},
   "source": [
    "Solve the system (takes some time...)"
   ]
  },
  {
   "cell_type": "code",
   "execution_count": 5,
   "metadata": {},
   "outputs": [
    {
     "name": "stdout",
     "output_type": "stream",
     "text": [
      "Progress: |██████████████████████████████████████████████████| 100.0% Complete\n"
     ]
    }
   ],
   "source": [
    "an.solve(q_in, out_bc, out_args)"
   ]
  },
  {
   "cell_type": "markdown",
   "metadata": {
    "collapsed": true
   },
   "source": [
    "Redimensionalise and store the results"
   ]
  },
  {
   "cell_type": "code",
   "execution_count": 6,
   "metadata": {
    "collapsed": true
   },
   "outputs": [],
   "source": [
    "an.redimensionalise(R, Q)\n",
    "an.dump_results('mca', './mca_vampy')"
   ]
  },
  {
   "cell_type": "markdown",
   "metadata": {},
   "source": [
    "### Plot the results\n",
    "\n",
    "The results are plotted using the plotting library delivered with VaMpy and Matplotlib:"
   ]
  },
  {
   "cell_type": "code",
   "execution_count": 7,
   "metadata": {
    "collapsed": true
   },
   "outputs": [],
   "source": [
    "from vampy import vamplot\n",
    "import matplotlib.pylab as plt\n",
    "from scipy.interpolate import interp2d"
   ]
  },
  {
   "cell_type": "markdown",
   "metadata": {},
   "source": [
    "The following code is just going to make the plots look more visually appealing"
   ]
  },
  {
   "cell_type": "code",
   "execution_count": 8,
   "metadata": {
    "collapsed": true
   },
   "outputs": [],
   "source": [
    "plt.rcParams['axes.labelsize'] = 9\n",
    "plt.rcParams['xtick.labelsize'] = 9\n",
    "plt.rcParams['ytick.labelsize'] = 9\n",
    "plt.rcParams['legend.fontsize'] = 9\n",
    "plt.rcParams['font.family'] = 'sans-serif'\n",
    "plt.rcParams['font.serif'] = ['Arial']\n",
    "\n",
    "WIDTH = 510\n",
    "FACTOR = 1.0  # the fraction of the width you'd like the figure to occupy\n",
    "fig_width_pt  = WIDTH * FACTOR\n",
    "inches_per_pt = 1.0 / 72.27\n",
    "golden_ratio  = (np.sqrt(5) - 1.0) / 2.0  # because it looks good\n",
    "fig_width_in  = fig_width_pt * inches_per_pt  # figure width in inches\n",
    "fig_height_in = fig_width_in * golden_ratio   # figure height in inches\n",
    "fig_dims    = [fig_width_in, fig_height_in] # fig dims as a list"
   ]
  },
  {
   "cell_type": "markdown",
   "metadata": {},
   "source": [
    "The pressure and velocity data is obtained from the files output during the previous step"
   ]
  },
  {
   "cell_type": "code",
   "execution_count": 9,
   "metadata": {
    "collapsed": true
   },
   "outputs": [],
   "source": [
    "# Load data files\n",
    "P = np.loadtxt('./mca_vampy/mca/p0_mca.csv', delimiter=',')\n",
    "U = np.loadtxt('./mca_vampy/mca/u0_mca.csv', delimiter=',')\n",
    "# Define dimensional parameters\n",
    "T = T * R**3/Q\n",
    "tf = T*tc\n",
    "L = Ru[0] * Lam[0] * R\n",
    "# create arrays for time and space\n",
    "t = np.linspace(tf-T, tf, P.shape[1])\n",
    "x = np.linspace(0,L,P.shape[0])"
   ]
  },
  {
   "cell_type": "markdown",
   "metadata": {},
   "source": [
    "To be able to plot the data, space and time are required to have the same dimension, so we need to interpolate"
   ]
  },
  {
   "cell_type": "code",
   "execution_count": 10,
   "metadata": {
    "collapsed": true
   },
   "outputs": [],
   "source": [
    "f = interp2d(t, x, P, kind='linear')\n",
    "g = interp2d(t, x, U, kind='linear')\n",
    "# redefine space to have the same length as time\n",
    "x = np.linspace(0, L, len(t))\n",
    "# calculate data on new grid\n",
    "P = f(t, x)\n",
    "U = g(t, x)"
   ]
  },
  {
   "cell_type": "markdown",
   "metadata": {},
   "source": [
    "Now create the plots"
   ]
  },
  {
   "cell_type": "code",
   "execution_count": 12,
   "metadata": {
    "collapsed": true
   },
   "outputs": [],
   "source": [
    "vamplot.p3d_plot(fig_dims, t, P, L, 0, 'mca', './mca_vampy/')\n",
    "vamplot.q3d_plot(fig_dims, t, U, L, 0, 'mca', './mca_vampy/')"
   ]
  },
  {
   "cell_type": "markdown",
   "metadata": {},
   "source": [
    "The images are stored in the specifed folder\n",
    "\n",
    "![p](mca_vampy/mca/mca_p3d0.png)\n",
    "![q](mca_vampy/mca/mca_q3d0.png)"
   ]
  },
  {
   "cell_type": "markdown",
   "metadata": {},
   "source": [
    "## References\n",
    "\n",
    "[1] Diem AK, MacGregor Sharp M, Gatherer M, Bressloff NW, Carare RO and Richardson G (2017) Arterial Pulsations cannot Drive Intramural Periarterial Drainage: Significance for Aβ Drainage. Frontiers in Neuroscience 11:475. doi: https://doi.org/10.3389/fnins.2017.00475\n",
    "\n",
    "[2] Diem AK and Bressloff NW (2017) VaMpy: A Python Package to Solve 1D Blood Flow Problems. Journal of Open Research Software 5(1), p.17. doi: http://doi.org/10.5334/jors.159\n",
    "\n",
    "[3] Olufsen MS, Peskin CS, Kim WY, Pedersen EM, Nadim A and Larsen J (2000) Numerical Simulation and Experimental Validation of Blood Flow in Arteries with Structured-Tree Outflow Condition. Annals of Biomedical Engineering 28(11): 1281–1299, doi: https://doi.org/10.1114/1.1326031"
   ]
  }
 ],
 "metadata": {
  "kernelspec": {
   "display_name": "Python [conda root]",
   "language": "python",
   "name": "conda-root-py"
  },
  "language_info": {
   "codemirror_mode": {
    "name": "ipython",
    "version": 3
   },
   "file_extension": ".py",
   "mimetype": "text/x-python",
   "name": "python",
   "nbconvert_exporter": "python",
   "pygments_lexer": "ipython3",
   "version": "3.5.3"
  }
 },
 "nbformat": 4,
 "nbformat_minor": 2
}
